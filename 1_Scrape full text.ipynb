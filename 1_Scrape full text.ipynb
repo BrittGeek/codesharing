{
 "cells": [
  {
   "cell_type": "code",
   "execution_count": 1,
   "metadata": {},
   "outputs": [],
   "source": [
    "import numpy as np\n",
    "import pandas as pd\n",
    "from collections import defaultdict\n",
    "\n",
    "import requests\n",
    "from bs4 import BeautifulSoup\n",
    "import re\n",
    "import os\n",
    "import time\n",
    "\n",
    "import matplotlib.pyplot as plt\n",
    "%matplotlib inline"
   ]
  },
  {
   "cell_type": "markdown",
   "metadata": {},
   "source": [
    "# Determine articles to scrape\n",
    "\n",
    "Previous scrape (forgot to scrape Sci Data):\n",
    "\n",
    "```\n",
    "journals_keep = ['Nat Commun', 'Nat Neurosci', 'Nat Methods',\n",
    "                 'PLoS One', 'PLoS Comput Biol', 'Proc Natl Acad Sci U S A']\n",
    "terms = ['python', 'matlab', 'public', 'open', 'code', 'source', 'github']\n",
    "```"
   ]
  },
  {
   "cell_type": "code",
   "execution_count": 2,
   "metadata": {},
   "outputs": [],
   "source": [
    "# Define article restrictions\n",
    "journals1 = ['PLoS One', 'Sci Rep', 'Proc Natl Acad Sci U S A', 'Nat Commun', 'PLoS Comput Biol']\n",
    "journals2 = ['eLife', 'J Neurosci', 'Front Hum Neurosci', 'Front Neurosci',\n",
    "                'F1000Res', 'J Neurophysiol', 'Nature', 'Neuroimage', 'Neuron', 'Science',\n",
    "                'Brain', 'eNeuro', 'Neuroscience', 'Front Syst Neurosci', 'Nat Methods']\n",
    "cols_keep = ['Journal Title', 'Year', 'PMCID', 'PMID']\n",
    "year_min = 2014"
   ]
  },
  {
   "cell_type": "code",
   "execution_count": 3,
   "metadata": {},
   "outputs": [
    {
     "name": "stderr",
     "output_type": "stream",
     "text": [
      "/Users/scott/anaconda/lib/python3.6/site-packages/IPython/core/interactiveshell.py:2785: DtypeWarning: Columns (4,5,10) have mixed types. Specify dtype option on import or set low_memory=False.\n",
      "  interactivity=interactivity, compiler=compiler, result=result)\n"
     ]
    }
   ],
   "source": [
    "# Load database of available articles\n",
    "df = pd.read_csv('/gh/data/opencode/PMC-ids.csv')\n",
    "\n",
    "df_keep = df[(df['Journal Title'].isin(journals2)) &\n",
    "             (df['Year'] >= year_min)\n",
    "             ]\n",
    "df_keep = df_keep[cols_keep]\n",
    "\n",
    "# Remove articles without a PMID (not read)\n",
    "df_keep.dropna(subset=['PMID'], inplace=True)\n",
    "df_keep = df_keep.reset_index()"
   ]
  },
  {
   "cell_type": "code",
   "execution_count": 4,
   "metadata": {
    "scrolled": true
   },
   "outputs": [
    {
     "data": {
      "text/html": [
       "<div>\n",
       "<style scoped>\n",
       "    .dataframe tbody tr th:only-of-type {\n",
       "        vertical-align: middle;\n",
       "    }\n",
       "\n",
       "    .dataframe tbody tr th {\n",
       "        vertical-align: top;\n",
       "    }\n",
       "\n",
       "    .dataframe thead th {\n",
       "        text-align: right;\n",
       "    }\n",
       "</style>\n",
       "<table border=\"1\" class=\"dataframe\">\n",
       "  <thead>\n",
       "    <tr style=\"text-align: right;\">\n",
       "      <th></th>\n",
       "      <th>index</th>\n",
       "      <th>Journal Title</th>\n",
       "      <th>Year</th>\n",
       "      <th>PMCID</th>\n",
       "      <th>PMID</th>\n",
       "    </tr>\n",
       "  </thead>\n",
       "  <tbody>\n",
       "    <tr>\n",
       "      <th>0</th>\n",
       "      <td>2991923</td>\n",
       "      <td>F1000Res</td>\n",
       "      <td>2014</td>\n",
       "      <td>PMC3799545</td>\n",
       "      <td>24358873.0</td>\n",
       "    </tr>\n",
       "    <tr>\n",
       "      <th>1</th>\n",
       "      <td>3057806</td>\n",
       "      <td>J Neurosci</td>\n",
       "      <td>2014</td>\n",
       "      <td>PMC3866478</td>\n",
       "      <td>24381264.0</td>\n",
       "    </tr>\n",
       "    <tr>\n",
       "      <th>2</th>\n",
       "      <td>3057807</td>\n",
       "      <td>J Neurosci</td>\n",
       "      <td>2014</td>\n",
       "      <td>PMC3866479</td>\n",
       "      <td>24381272.0</td>\n",
       "    </tr>\n",
       "    <tr>\n",
       "      <th>3</th>\n",
       "      <td>3057808</td>\n",
       "      <td>J Neurosci</td>\n",
       "      <td>2014</td>\n",
       "      <td>PMC3866480</td>\n",
       "      <td>24381273.0</td>\n",
       "    </tr>\n",
       "    <tr>\n",
       "      <th>4</th>\n",
       "      <td>3057809</td>\n",
       "      <td>J Neurosci</td>\n",
       "      <td>2014</td>\n",
       "      <td>PMC3866481</td>\n",
       "      <td>24381276.0</td>\n",
       "    </tr>\n",
       "  </tbody>\n",
       "</table>\n",
       "</div>"
      ],
      "text/plain": [
       "     index Journal Title  Year       PMCID        PMID\n",
       "0  2991923      F1000Res  2014  PMC3799545  24358873.0\n",
       "1  3057806    J Neurosci  2014  PMC3866478  24381264.0\n",
       "2  3057807    J Neurosci  2014  PMC3866479  24381272.0\n",
       "3  3057808    J Neurosci  2014  PMC3866480  24381273.0\n",
       "4  3057809    J Neurosci  2014  PMC3866481  24381276.0"
      ]
     },
     "execution_count": 4,
     "metadata": {},
     "output_type": "execute_result"
    }
   ],
   "source": [
    "df_keep.head()"
   ]
  },
  {
   "cell_type": "code",
   "execution_count": 5,
   "metadata": {},
   "outputs": [
    {
     "data": {
      "text/plain": [
       "27027"
      ]
     },
     "execution_count": 5,
     "metadata": {},
     "output_type": "execute_result"
    }
   ],
   "source": [
    "len(df_keep)"
   ]
  },
  {
   "cell_type": "markdown",
   "metadata": {},
   "source": [
    "# Scrape all"
   ]
  },
  {
   "cell_type": "code",
   "execution_count": 38,
   "metadata": {},
   "outputs": [],
   "source": [
    "apikey = open('apikey.txt', 'r').read()\n",
    "db = 'pmc'\n",
    "base = 'http://eutils.ncbi.nlm.nih.gov/entrez/eutils/efetch.fcgi?'\n",
    "terms = ['python', 'matlab', 'code', 'github']\n",
    "span_buffer = 100\n",
    "N_previous = 27020\n",
    "N_chunk = 30000\n",
    "N_save = 10"
   ]
  },
  {
   "cell_type": "code",
   "execution_count": 40,
   "metadata": {
    "scrolled": true
   },
   "outputs": [],
   "source": [
    "# Load previous computation\n",
    "if N_previous > 0:\n",
    "    other = ['aff', 'subject']\n",
    "    dfs_articles = {}\n",
    "    for k in terms + other:\n",
    "        csv_name = '/gh/data2/opencode/temp/{:s}_{:d}.csv'.format(k, N_previous)\n",
    "        dfs_articles[k] = [pd.read_csv(csv_name, index_col=0)]\n",
    "else:\n",
    "    dfs_articles = defaultdict(list)\n",
    "\n",
    "for i, row in df_keep.loc[N_previous+1:].iterrows():\n",
    "    # Get full text of 1 paper\n",
    "    pmcid = row['PMCID']\n",
    "    s = '{:s}db={:s}&id={:s}'.format(base, db, pmcid, apikey)\n",
    "    out = requests.get(s)\n",
    "    bs = BeautifulSoup(out.content, 'lxml')\n",
    "\n",
    "    # Affiliations and subject dfs\n",
    "    dict_affs = defaultdict(list)\n",
    "    affs = [x.text for x in bs.findAll('aff')]\n",
    "    for aff in affs:\n",
    "        dict_affs['PMCID'].append(pmcid)\n",
    "        dict_affs['aff'].append(aff)\n",
    "    dfs_articles['aff'].append(pd.DataFrame(dict_affs))\n",
    "\n",
    "    dict_subjects = defaultdict(list)\n",
    "    subjects = [x.contents[0] for x in bs.findAll('subject')]\n",
    "    for subject in subjects:\n",
    "        dict_subjects['PMCID'].append(pmcid)\n",
    "        dict_subjects['subject'].append(subject)\n",
    "    dfs_articles['subject'].append(pd.DataFrame(dict_subjects))\n",
    "\n",
    "    # DFs of terms\n",
    "    for term in terms:\n",
    "        dict_term = defaultdict(list)\n",
    "        for s in re.finditer(term, out.text, re.IGNORECASE):\n",
    "            save_span = s.span()\n",
    "            sent = out.text[(save_span[0] - span_buffer):(save_span[1] + span_buffer)]\n",
    "\n",
    "            dict_term['PMCID'].append(pmcid)\n",
    "            dict_term['sentence'].append(sent)\n",
    "        dfs_articles[term].append(pd.DataFrame(dict_term))\n",
    "\n",
    "    # Save output every N\n",
    "    if (i % N_save == 0) & (i > 0):\n",
    "        print(i)\n",
    "        for k in dfs_articles.keys():\n",
    "            df_save = pd.concat(dfs_articles[k])\n",
    "            df_save.to_csv('/gh/data2/opencode/temp/{:s}_{:d}.csv'.format(k, i))\n",
    "\n",
    "            # Delete last file Unless \n",
    "            if (i-N_save) % N_chunk > 0:\n",
    "                os.remove('/gh/data2/opencode/temp/{:s}_{:d}.csv'.format(k, i - N_save))\n",
    "\n",
    "        if i % N_chunk == 0:\n",
    "            if i > 0:\n",
    "                dfs_articles = defaultdict(list)\n",
    "            \n",
    "# Save output when finish\n",
    "for k in dfs_articles.keys():\n",
    "    df_save = pd.concat(dfs_articles[k])\n",
    "    df_save.to_csv('/gh/data2/opencode/temp/{:s}_{:d}.csv'.format(k, i))\n",
    "    os.remove('/gh/data2/opencode/temp/{:s}_{:d}.csv'.format(k, int(np.round(i-(N_save/2-1), -1))))"
   ]
  }
 ],
 "metadata": {
  "kernelspec": {
   "display_name": "Python 3",
   "language": "python",
   "name": "python3"
  },
  "language_info": {
   "codemirror_mode": {
    "name": "ipython",
    "version": 3
   },
   "file_extension": ".py",
   "mimetype": "text/x-python",
   "name": "python",
   "nbconvert_exporter": "python",
   "pygments_lexer": "ipython3",
   "version": "3.6.4"
  }
 },
 "nbformat": 4,
 "nbformat_minor": 2
}
